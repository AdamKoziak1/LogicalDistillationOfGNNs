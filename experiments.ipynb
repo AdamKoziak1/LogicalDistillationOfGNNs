{
 "cells": [
  {
   "cell_type": "code",
   "execution_count": 1,
   "metadata": {},
   "outputs": [],
   "source": [
    "import torch_geometric.datasets as datasets\n",
    "\n",
    "mutag = datasets.TUDataset(root='data', name='MUTAG')"
   ]
  },
  {
   "cell_type": "code",
   "execution_count": 2,
   "metadata": {},
   "outputs": [
    {
     "data": {
      "text/plain": [
       "True"
      ]
     },
     "execution_count": 2,
     "metadata": {},
     "output_type": "execute_result"
    }
   ],
   "source": [
    "from gnnexplain.nn.gcn import GraphGCN\n",
    "from lightning import LightningModule\n",
    "\n",
    "model = GraphGCN.load_from_checkpoint('checkpoints/MUTAG-epoch=99.ckpt').cpu()\n",
    "isinstance(model, LightningModule)"
   ]
  },
  {
   "cell_type": "code",
   "execution_count": 3,
   "metadata": {},
   "outputs": [],
   "source": [
    "from torch_geometric.loader import DataLoader\n",
    "from torch_geometric.data import Batch\n",
    "\n",
    "loader = DataLoader(mutag, batch_size=40000, shuffle=False)\n",
    "batch = loader.__iter__().__next__().cpu()\n",
    "l = batch.to_data_list()\n",
    "train, test = Batch.from_data_list(l[:150]), Batch.from_data_list(l[150:])"
   ]
  },
  {
   "cell_type": "code",
   "execution_count": null,
   "metadata": {},
   "outputs": [
    {
     "data": {
      "text/plain": [
       "tensor([[-2.0703e+00, -1.3485e-01],\n",
       "        [-2.1291e-01, -1.6515e+00],\n",
       "        [-9.3181e-03, -4.6805e+00],\n",
       "        [-4.7084e+00, -9.0601e-03],\n",
       "        [-2.7363e-02, -3.6122e+00],\n",
       "        [-3.2908e+00, -3.7935e-02],\n",
       "        [-2.9723e-01, -1.3582e+00],\n",
       "        [-7.2213e+00, -7.3108e-04],\n",
       "        [-3.7045e-03, -5.6001e+00],\n",
       "        [-5.4620e+00, -4.2542e-03],\n",
       "        [-3.7743e-01, -1.1572e+00],\n",
       "        [-3.7567e+00, -2.3637e-02],\n",
       "        [-2.6330e+00, -7.4577e-02],\n",
       "        [-7.4722e-03, -4.9003e+00],\n",
       "        [-4.3226e+00, -1.3354e-02],\n",
       "        [-3.9297e+00, -1.9844e-02],\n",
       "        [-2.8610e-05, -1.0464e+01],\n",
       "        [-7.1189e+00, -8.1006e-04],\n",
       "        [-1.2061e-02, -4.4238e+00],\n",
       "        [-8.5642e-01, -5.5283e-01],\n",
       "        [-3.0665e+00, -4.7703e-02],\n",
       "        [-3.3553e+00, -3.5522e-02],\n",
       "        [-8.3312e-01, -5.7039e-01],\n",
       "        [-2.0873e+00, -1.3241e-01],\n",
       "        [-7.1533e+00, -7.8254e-04],\n",
       "        [-5.5942e-02, -2.9113e+00],\n",
       "        [-2.2095e+00, -1.1626e-01],\n",
       "        [-2.1566e+00, -1.2298e-01],\n",
       "        [-6.6846e+00, -1.2508e-03],\n",
       "        [-9.0063e-01, -5.2140e-01],\n",
       "        [-6.1215e+00, -2.1976e-03],\n",
       "        [-7.9465e+00, -3.5399e-04],\n",
       "        [-5.1426e+00, -5.8595e-03],\n",
       "        [-1.1739e+00, -3.6982e-01],\n",
       "        [-1.6414e+00, -2.1531e-01],\n",
       "        [-2.4022e-01, -1.5439e+00],\n",
       "        [-1.1608e+00, -3.7575e-01],\n",
       "        [-2.0166e+00, -1.4283e-01],\n",
       "        [-1.1884e+00, -3.6341e-01],\n",
       "        [-4.5696e-01, -1.0030e+00],\n",
       "        [-2.8775e-02, -3.5626e+00],\n",
       "        [-4.4082e-03, -5.4265e+00],\n",
       "        [-2.8964e+00, -5.6802e-02],\n",
       "        [-2.0703e+00, -1.3485e-01],\n",
       "        [-5.0942e+00, -6.1508e-03],\n",
       "        [-2.2095e+00, -1.1626e-01],\n",
       "        [-2.4138e+00, -9.3736e-02],\n",
       "        [-1.8855e+00, -1.6459e-01],\n",
       "        [-9.5258e-02, -2.3984e+00],\n",
       "        [-1.3542e+00, -2.9862e-01],\n",
       "        [-3.4139e+00, -3.3467e-02],\n",
       "        [-3.6617e+00, -2.6025e-02],\n",
       "        [-3.8732e+00, -2.1012e-02],\n",
       "        [-1.2270e+01, -4.6492e-06],\n",
       "        [-3.3022e-01, -1.2686e+00],\n",
       "        [-6.2896e-02, -2.7975e+00],\n",
       "        [-4.6774e+00, -9.3471e-03],\n",
       "        [-6.4995e+00, -1.5053e-03],\n",
       "        [-1.0997e+00, -4.0490e-01],\n",
       "        [-4.7493e+00, -8.6955e-03],\n",
       "        [-3.7785e+00, -2.3123e-02],\n",
       "        [-7.6405e-02, -2.6097e+00],\n",
       "        [-3.4107e+00, -3.3575e-02],\n",
       "        [-7.6869e+00, -4.5885e-04],\n",
       "        [-2.1469e+00, -1.2426e-01],\n",
       "        [-1.0303e-01, -2.3238e+00],\n",
       "        [-5.3632e+00, -4.6966e-03],\n",
       "        [-2.2885e+00, -1.0694e-01],\n",
       "        [-2.8846e+00, -5.7497e-02],\n",
       "        [-9.0066e-03, -4.7143e+00],\n",
       "        [-4.3041e+00, -1.3605e-02],\n",
       "        [-2.6954e+00, -6.9900e-02],\n",
       "        [-9.8043e-02, -2.3710e+00],\n",
       "        [-2.4702e+00, -8.8363e-02],\n",
       "        [-3.3079e+00, -3.7281e-02],\n",
       "        [-1.3027e-02, -4.3472e+00],\n",
       "        [-2.4909e-01, -1.5119e+00],\n",
       "        [-2.2392e+00, -1.1266e-01],\n",
       "        [-1.3131e+01, -2.0266e-06],\n",
       "        [-3.3621e+00, -3.5278e-02],\n",
       "        [-6.8755e+00, -1.0334e-03],\n",
       "        [-4.8202e+00, -8.0983e-03],\n",
       "        [-5.9542e-02, -2.8507e+00],\n",
       "        [-5.7492e-01, -8.2726e-01],\n",
       "        [-7.1523e-01, -6.7155e-01],\n",
       "        [-6.6122e-01, -7.2612e-01],\n",
       "        [-1.2518e+01, -3.6955e-06],\n",
       "        [-3.1775e+00, -4.2582e-02],\n",
       "        [-6.1679e-02, -2.8165e+00],\n",
       "        [-4.5490e+00, -1.0634e-02],\n",
       "        [-6.6729e+00, -1.2654e-03],\n",
       "        [-3.8520e+00, -2.1467e-02],\n",
       "        [-3.4497e+00, -3.2269e-02],\n",
       "        [-3.0348e+00, -4.9277e-02],\n",
       "        [-6.4111e+00, -1.6445e-03],\n",
       "        [-2.9882e+00, -5.1692e-02],\n",
       "        [-7.8724e+00, -3.8116e-04],\n",
       "        [-9.1015e-03, -4.7039e+00],\n",
       "        [-1.2485e+00, -3.3820e-01],\n",
       "        [-1.4569e-01, -1.9982e+00],\n",
       "        [-3.4497e+00, -3.2269e-02],\n",
       "        [-5.9284e+00, -2.6664e-03],\n",
       "        [-3.8520e+00, -2.1467e-02],\n",
       "        [-4.5490e+00, -1.0634e-02],\n",
       "        [-5.2878e-03, -5.2450e+00],\n",
       "        [-9.0086e+00, -1.2242e-04],\n",
       "        [-4.9921e+00, -6.8143e-03],\n",
       "        [-2.2436e+00, -1.1213e-01],\n",
       "        [-2.5382e+00, -8.2308e-02],\n",
       "        [-3.8928e+00, -2.0598e-02],\n",
       "        [-2.3079e+00, -1.0477e-01],\n",
       "        [-7.8391e-01, -6.0994e-01],\n",
       "        [-1.1438e-01, -2.2249e+00],\n",
       "        [-1.0220e-01, -2.3315e+00],\n",
       "        [-1.2761e+00, -3.2729e-01],\n",
       "        [-3.5210e-01, -1.2147e+00],\n",
       "        [-4.1529e+00, -1.5844e-02],\n",
       "        [-2.2885e+00, -1.0694e-01],\n",
       "        [-2.5416e+00, -8.2012e-02],\n",
       "        [-1.5523e-03, -6.4688e+00],\n",
       "        [-6.6498e+00, -1.2951e-03],\n",
       "        [-4.6687e-01, -9.8607e-01],\n",
       "        [-2.1606e+00, -1.2245e-01],\n",
       "        [-5.6193e-02, -2.9069e+00],\n",
       "        [-3.8520e+00, -2.1467e-02],\n",
       "        [-1.2377e-01, -2.1506e+00],\n",
       "        [-7.0429e+00, -8.7402e-04],\n",
       "        [-3.1253e+00, -4.4918e-02],\n",
       "        [-8.8270e-03, -4.7343e+00],\n",
       "        [-1.0036e+00, -4.5657e-01],\n",
       "        [-3.6529e+00, -2.6257e-02],\n",
       "        [-1.6204e+00, -2.2042e-01],\n",
       "        [-2.7190e+00, -6.8212e-02],\n",
       "        [-2.4138e+00, -9.3736e-02],\n",
       "        [-8.5871e-02, -2.4975e+00],\n",
       "        [-8.7204e+00, -1.6318e-04],\n",
       "        [-4.5788e+00, -1.0321e-02],\n",
       "        [-1.3446e-02, -4.3158e+00],\n",
       "        [-4.9615e-04, -7.6090e+00],\n",
       "        [-2.6010e+00, -7.7098e-02],\n",
       "        [-1.6898e-01, -1.8613e+00],\n",
       "        [-4.9017e+00, -7.4619e-03],\n",
       "        [-3.9022e+00, -2.0403e-02],\n",
       "        [-1.1467e-03, -6.7714e+00],\n",
       "        [-9.5251e-01, -4.8739e-01],\n",
       "        [-1.6529e-01, -1.8816e+00],\n",
       "        [-1.4889e-02, -4.2146e+00],\n",
       "        [-7.8391e-01, -6.0994e-01],\n",
       "        [-9.5299e-02, -2.3980e+00],\n",
       "        [-1.8881e-04, -8.5752e+00]], grad_fn=<LogSoftmaxBackward0>)"
      ]
     },
     "execution_count": 15,
     "metadata": {},
     "output_type": "execute_result"
    }
   ],
   "source": [
    "(model(train).argmax(1) == train.y).float().mean()"
   ]
  },
  {
   "cell_type": "code",
   "execution_count": 11,
   "metadata": {},
   "outputs": [
    {
     "name": "stderr",
     "output_type": "stream",
     "text": [
      "Best trial: 0. Best value: 0.772367:   4%|▍         | 4/100 [00:00<00:13,  7.32it/s]"
     ]
    },
    {
     "name": "stderr",
     "output_type": "stream",
     "text": [
      "Best trial: 78. Best value: 0.8991: 100%|██████████| 100/100 [00:18<00:00,  5.33it/s] \n"
     ]
    }
   ],
   "source": [
    "from gnnexplain.model.gtree import *\n",
    "import optuna\n",
    "\n",
    "optuna.logging.set_verbosity(optuna.logging.WARNING)\n",
    "opt = Optimizer(lmb=1e-4, max_ccp_alpha=1e-3, n_trials=100)\n",
    "expl = opt.optimize(train, model)"
   ]
  },
  {
   "cell_type": "code",
   "execution_count": 12,
   "metadata": {},
   "outputs": [
    {
     "data": {
      "text/plain": [
       "tensor(0.8733)"
      ]
     },
     "execution_count": 12,
     "metadata": {},
     "output_type": "execute_result"
    }
   ],
   "source": [
    "expl.accuracy(train)"
   ]
  },
  {
   "cell_type": "code",
   "execution_count": 13,
   "metadata": {},
   "outputs": [
    {
     "data": {
      "text/plain": [
       "tensor(0.8158)"
      ]
     },
     "execution_count": 13,
     "metadata": {},
     "output_type": "execute_result"
    }
   ],
   "source": [
    "expl.accuracy(test)"
   ]
  },
  {
   "cell_type": "code",
   "execution_count": 14,
   "metadata": {},
   "outputs": [],
   "source": [
    "%matplotlib inline\n",
    "import matplotlib.pyplot as plt\n",
    "fig, axs = plt.subplots(nrows = len(expl.layer) + 1, figsize=(10, 4 * len(expl.layer) + 4))\n",
    "for k in range(len(expl.layer)):\n",
    "    expl.layer[k].plot(axs[k], k)\n",
    "expl.out_layer.plot(axs[-1], k+1)\n",
    "plt.savefig(f'figures/MUTAG_{expl.accuracy(test):.0%}.png')\n",
    "plt.close()"
   ]
  }
 ],
 "metadata": {
  "kernelspec": {
   "display_name": "gnnexplain",
   "language": "python",
   "name": "python3"
  },
  "language_info": {
   "codemirror_mode": {
    "name": "ipython",
    "version": 3
   },
   "file_extension": ".py",
   "mimetype": "text/x-python",
   "name": "python",
   "nbconvert_exporter": "python",
   "pygments_lexer": "ipython3",
   "version": "3.12.2"
  }
 },
 "nbformat": 4,
 "nbformat_minor": 2
}
