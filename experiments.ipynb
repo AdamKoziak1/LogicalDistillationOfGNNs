{
 "cells": [
  {
   "cell_type": "code",
   "execution_count": 1,
   "metadata": {},
   "outputs": [],
   "source": [
    "import torch_geometric.datasets as datasets\n",
    "\n",
    "mutag = datasets.TUDataset(root='data', name='AIDS')"
   ]
  },
  {
   "cell_type": "code",
   "execution_count": 26,
   "metadata": {},
   "outputs": [
    {
     "name": "stderr",
     "output_type": "stream",
     "text": [
      "/home/apluska/miniconda3/envs/gnnexplain/lib/python3.12/site-packages/torch_geometric/deprecation.py:26: UserWarning: 'data.DataLoader' is deprecated, use 'loader.DataLoader' instead\n",
      "  warnings.warn(out)\n"
     ]
    }
   ],
   "source": [
    "from gnnexplain.nn.gcn import GraphGCN\n",
    "from torch_geometric.data import DataLoader\n",
    "\n",
    "model = GraphGCN(38, 2, 64, 3)\n",
    "train_loader = DataLoader(mutag, batch_size=256, shuffle=True)\n",
    "val_loader = DataLoader(mutag, batch_size=64, shuffle=False)"
   ]
  },
  {
   "cell_type": "code",
   "execution_count": 27,
   "metadata": {},
   "outputs": [],
   "source": [
    "batch = train_loader.__iter__().__next__()"
   ]
  },
  {
   "cell_type": "code",
   "execution_count": 80,
   "metadata": {},
   "outputs": [],
   "source": [
    "k_fold = 5; iteration = 0; name = 'MUTAG'\n",
    "\n",
    "dataset = datasets.TUDataset(root='data', name=name)\n",
    "\n",
    "n_val = len(dataset) // k_fold\n",
    "val_data = dataset[iteration * n_val : (iteration + 1) * n_val]\n",
    "train_data = dataset[:iteration * n_val] + dataset[(iteration + 1) * n_val:]"
   ]
  },
  {
   "cell_type": "code",
   "execution_count": 93,
   "metadata": {},
   "outputs": [
    {
     "data": {
      "text/plain": [
       "MUTAG(151)"
      ]
     },
     "execution_count": 93,
     "metadata": {},
     "output_type": "execute_result"
    }
   ],
   "source": [
    "len(train_data.datasets[1])"
   ]
  },
  {
   "cell_type": "code",
   "execution_count": 45,
   "metadata": {},
   "outputs": [],
   "source": [
    "import torch\n",
    "\n",
    "out = model(batch)\n",
    "labels = torch.arange(model.num_classes, device=out.device)\n",
    "sample_weights = torch.sum(batch.y.view(-1, 1) == labels.view(1, -1), dim=0).float()\n",
    "sample_weights = model.num_classes * sample_weights / sample_weights.sum()\n",
    "loss = model.loss(out / sample_weights, batch.y)"
   ]
  },
  {
   "cell_type": "code",
   "execution_count": 48,
   "metadata": {},
   "outputs": [
    {
     "data": {
      "text/plain": [
       "tensor([3.0000, 1.5000, 1.0000])"
      ]
     },
     "execution_count": 48,
     "metadata": {},
     "output_type": "execute_result"
    }
   ],
   "source": [
    "3 /  torch.tensor([1, 2, 3])"
   ]
  },
  {
   "cell_type": "code",
   "execution_count": 47,
   "metadata": {},
   "outputs": [
    {
     "data": {
      "text/plain": [
       "tensor(0.6988, grad_fn=<NllLossBackward0>)"
      ]
     },
     "execution_count": 47,
     "metadata": {},
     "output_type": "execute_result"
    }
   ],
   "source": [
    "loss"
   ]
  },
  {
   "cell_type": "code",
   "execution_count": 4,
   "metadata": {},
   "outputs": [],
   "source": [
    "from torch_geometric.loader import DataLoader\n",
    "from torch_geometric.data import Batch\n",
    "\n",
    "loader = DataLoader(mutag, batch_size=40000, shuffle=False)\n",
    "batch = loader.__iter__().__next__().cpu()\n",
    "l = batch.to_data_list()\n",
    "train, test = Batch.from_data_list(l[:150]), Batch.from_data_list(l[150:])"
   ]
  },
  {
   "cell_type": "code",
   "execution_count": 12,
   "metadata": {},
   "outputs": [
    {
     "name": "stderr",
     "output_type": "stream",
     "text": [
      "Best trial: 632. Best value: 0.863: 100%|██████████| 1000/1000.0 [03:13<00:00,  5.17it/s]\n"
     ]
    }
   ],
   "source": [
    "from gnnexplain.model.gtree import *\n",
    "import optuna\n",
    "\n",
    "optuna.logging.set_verbosity(optuna.logging.WARNING)\n",
    "opt = Optimizer(n_trials=1e3, max_ccp_alpha=1e-2, max_depth=10, lmb=1e-3)\n",
    "expl = opt.optimize(train, model)"
   ]
  },
  {
   "cell_type": "code",
   "execution_count": null,
   "metadata": {},
   "outputs": [],
   "source": []
  },
  {
   "cell_type": "code",
   "execution_count": 14,
   "metadata": {},
   "outputs": [
    {
     "data": {
      "text/plain": [
       "0.84"
      ]
     },
     "execution_count": 14,
     "metadata": {},
     "output_type": "execute_result"
    }
   ],
   "source": [
    "expl.accuracy(train)"
   ]
  },
  {
   "cell_type": "code",
   "execution_count": 15,
   "metadata": {},
   "outputs": [
    {
     "data": {
      "text/plain": [
       "0.7631578947368421"
      ]
     },
     "execution_count": 15,
     "metadata": {},
     "output_type": "execute_result"
    }
   ],
   "source": [
    "expl.accuracy(test)"
   ]
  }
 ],
 "metadata": {
  "kernelspec": {
   "display_name": "gnnexplain",
   "language": "python",
   "name": "python3"
  },
  "language_info": {
   "codemirror_mode": {
    "name": "ipython",
    "version": 3
   },
   "file_extension": ".py",
   "mimetype": "text/x-python",
   "name": "python",
   "nbconvert_exporter": "python",
   "pygments_lexer": "ipython3",
   "version": "3.12.2"
  }
 },
 "nbformat": 4,
 "nbformat_minor": 2
}
