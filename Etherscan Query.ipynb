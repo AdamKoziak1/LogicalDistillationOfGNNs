{
 "cells": [
  {
   "cell_type": "code",
   "execution_count": null,
   "metadata": {},
   "outputs": [],
   "source": [
    "import pandas as pd\n",
    "import requests\n",
    "import time\n",
    "\n",
    "df = pd.read_csv(r\"/Users/ramy/Documents/GitHub/LogicalDistillationOfGNNs/EtherScamDB/EtherScamDB-master/_data/scams.csv\")\n",
    "df[\"scam_address\"] = df[\"scam_address\"].str.replace(r\"[\\[\\]']\", \"\", regex=True).str.split(\", \")\n",
    "\n",
    "df = df.explode(\"scam_address\").reset_index(drop=True)\n",
    "addresses = df[\"scam_address\"].tolist()\n",
    "\n",
    "ETHERSCAN_API_KEY = \"3GS49BKCP8XK873Y1B27MR1WSBUIVSZSRD\"\n",
    "\n",
    "def get_transactions(address):\n",
    "    url = f\"https://api.etherscan.io/api?module=account&action=txlist&address={address}&startblock=0&endblock=99999999&sort=desc&apikey={ETHERSCAN_API_KEY}\"\n",
    "    response = requests.get(url)\n",
    "    data = response.json()\n",
    "    \n",
    "    if data[\"status\"] == \"1\":\n",
    "        return data[\"result\"]\n",
    "    else:\n",
    "        print(f\"Error fetching {address}: {data['message']}\")\n",
    "        return []\n",
    "\n",
    "all_transactions = []\n",
    "for address in addresses:\n",
    "    transactions = get_transactions(address.strip())\n",
    "    for tx in transactions:\n",
    "        tx[\"scam_address\"] = address\n",
    "        all_transactions.append(tx)\n",
    "    time.sleep(0.5)\n",
    "\n",
    "tx_df = pd.DataFrame(all_transactions)\n",
    "tx_df.to_csv(\"scam_transactions.csv\", index=False)\n",
    "\n",
    "print(\"Transaction data saved successfully!\")"
   ]
  },
  {
   "cell_type": "code",
   "execution_count": null,
   "metadata": {},
   "outputs": [],
   "source": [
    "scams_df = pd.read_csv(r\"/Users/ramy/Documents/GitHub/LogicalDistillationOfGNNs/EtherScamDB/EtherScamDB-master/_data/scams.csv\")\n",
    "scams_df[\"scam_address\"] = scams_df[\"scam_address\"].str.replace(r\"[\\[\\]']\", \"\", regex=True).str.split(\", \")\n",
    "exploded_scams_df = scams_df.explode(\"scam_address\")\n",
    "\n",
    "transactions_df = pd.read_csv(\"/Users/ramy/Documents/GitHub/LogicalDistillationOfGNNs/scam_transactions.csv\")\n",
    "merged_df = pd.merge(exploded_scams_df, transactions_df, on=\"scam_address\", how=\"right\")"
   ]
  }
 ],
 "metadata": {
  "kernelspec": {
   "display_name": "Python 3",
   "language": "python",
   "name": "python3"
  },
  "language_info": {
   "codemirror_mode": {
    "name": "ipython",
    "version": 3
   },
   "file_extension": ".py",
   "mimetype": "text/x-python",
   "name": "python",
   "nbconvert_exporter": "python",
   "pygments_lexer": "ipython3",
   "version": "3.11.6"
  }
 },
 "nbformat": 4,
 "nbformat_minor": 2
}
