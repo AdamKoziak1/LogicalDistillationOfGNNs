{
 "cells": [
  {
   "cell_type": "code",
   "execution_count": null,
   "id": "4b012825",
   "metadata": {},
   "outputs": [
    {
     "name": "stdout",
     "output_type": "stream",
     "text": [
      "                                      Address  Trans_Type\n",
      "0  0x606af0bd4501855914b50e2672c5926b896737ef  ICO_Wallet\n",
      "1  0x01d9f4d104668cdc0b6d13c45dff5e15d58d8f28  ICO_Wallet\n",
      "2  0x15c19e6c203e2c34d1edfb26626bfc4f65ef96f0  ICO_Wallet\n",
      "3  0x7d5d58560819c172e45b46c0965bbda5a8895f80  ICO_Wallet\n",
      "4  0x71e7c73375efbefdf7b4be67e768d9038dde2488  ICO_Wallet\n"
     ]
    }
   ],
   "source": [
    "import undetected_chromedriver as uc\n",
    "from bs4 import BeautifulSoup\n",
    "import time\n",
    "import pandas as pd\n",
    "\n",
    "label_urls = [\n",
    "    (\"ICO_Wallet\", \"https://cn.etherscan.com/accounts/label/ico-wallets\"),\n",
    "    (\"Gambling\", \"https://cn.etherscan.com/accounts/label/gambling\"),\n",
    "    (\"Mining\", \"https://cn.etherscan.com/accounts/label/mining\"),\n",
    "]\n",
    "\n",
    "options = uc.ChromeOptions()\n",
    "options.headless = False \n",
    "driver = uc.Chrome(options=options)\n",
    "\n",
    "all_data = []\n",
    "\n",
    "for label, url in label_urls:\n",
    "    driver.get(url)\n",
    "    \n",
    "    input(f\"Solve the CAPTCHA (if any) for '{label}', then press ENTER...\")\n",
    "\n",
    "    time.sleep(2)\n",
    "    soup = BeautifulSoup(driver.page_source, \"html.parser\")\n",
    "\n",
    "    addresses = []\n",
    "    for row in soup.select(\"tbody tr\"):\n",
    "        a_tag = row.find(\"a\", href=True)\n",
    "        if a_tag and a_tag[\"href\"].startswith(\"/address/\"):\n",
    "            address = a_tag[\"href\"].split(\"/\")[-1]\n",
    "            addresses.append(address)\n",
    "\n",
    "    temp_df = pd.DataFrame(addresses, columns=[\"Address\"])\n",
    "    temp_df[\"Trans_Type\"] = label\n",
    "\n",
    "    all_data.append(temp_df)\n",
    "\n",
    "driver.quit()\n",
    "final_df = pd.concat(all_data, ignore_index=True)\n",
    "\n",
    "print(final_df.head())"
   ]
  }
 ],
 "metadata": {
  "kernelspec": {
   "display_name": "vscode-env",
   "language": "python",
   "name": "python3"
  },
  "language_info": {
   "codemirror_mode": {
    "name": "ipython",
    "version": 3
   },
   "file_extension": ".py",
   "mimetype": "text/x-python",
   "name": "python",
   "nbconvert_exporter": "python",
   "pygments_lexer": "ipython3",
   "version": "3.13.3"
  }
 },
 "nbformat": 4,
 "nbformat_minor": 5
}
