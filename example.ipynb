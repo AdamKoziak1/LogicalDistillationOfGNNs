{
 "cells": [
  {
   "cell_type": "code",
   "execution_count": null,
   "metadata": {},
   "outputs": [],
   "source": [
    "import torch\n",
    "\n",
    "from idt.data import data\n",
    "\n",
    "num_features, num_classes, train_loader, val_loader, train_val_batch, test_batch = data('EMLC1', 5, 0, seed=42)\n",
    "    \n",
    "bincount = torch.bincount(train_val_batch.y, minlength=2)\n",
    "weight = len(train_val_batch) / (2 * bincount.float())"
   ]
  },
  {
   "cell_type": "code",
   "execution_count": null,
   "metadata": {},
   "outputs": [],
   "source": [
    "from lightning import Trainer\n",
    "from lightning.pytorch.callbacks.early_stopping import EarlyStopping\n",
    "\n",
    "from idt.gnn import GNN\n",
    "\n",
    "torch.set_float32_matmul_precision('high')\n",
    "\n",
    "GCN = GNN(num_features, num_classes, layers=8, dim=128, activation=\"ReLU\", conv=\"GCN\", pool=\"mean\", lr=1e-4, weight=weight)\n",
    "early_stop_callback = EarlyStopping(monitor=\"GCN_val_loss\", patience=10, mode=\"min\")\n",
    "\n",
    "trainer = Trainer(\n",
    "    max_steps=1000,\n",
    "    enable_checkpointing=False,\n",
    "    enable_progress_bar=True,\n",
    "    log_every_n_steps=1,\n",
    "    callbacks=[early_stop_callback],\n",
    ")\n",
    "trainer.fit(GCN, train_dataloaders=train_loader, val_dataloaders=val_loader)"
   ]
  },
  {
   "cell_type": "code",
   "execution_count": null,
   "metadata": {},
   "outputs": [],
   "source": [
    "from idt.idt import IDT, get_activations\n",
    "\n",
    "idt = IDT(width=8, sample_size=1000, layer_depth=2, max_depth=None, ccp_alpha=1e-3)\n",
    "values = get_activations(train_val_batch, GCN)\n",
    "idt.fit(train_val_batch, values, train_val_batch.y)\n",
    "print(f\"\"\"\n",
    "    GCN test accuracy: {(GCN(test_batch).argmax(-1) == test_batch.y).float().mean().item()}\n",
    "    IDT test accuracy: {idt.accuracy(test_batch)}\n",
    "    IDT F1 score:      {idt.f1_score(test_batch)}\n",
    "    Fidelity:          {idt.fidelity(test_batch, GCN)}\"\"\")"
   ]
  },
  {
   "cell_type": "code",
   "execution_count": null,
   "metadata": {},
   "outputs": [],
   "source": [
    "idt.prune()\n",
    "idt.plot()"
   ]
  }
 ],
 "metadata": {
  "kernelspec": {
   "display_name": "Python 3",
   "language": "python",
   "name": "python3"
  },
  "language_info": {
   "codemirror_mode": {
    "name": "ipython",
    "version": 3
   },
   "file_extension": ".py",
   "mimetype": "text/x-python",
   "name": "python",
   "nbconvert_exporter": "python",
   "pygments_lexer": "ipython3",
   "version": "3.11.6"
  }
 },
 "nbformat": 4,
 "nbformat_minor": 2
}
